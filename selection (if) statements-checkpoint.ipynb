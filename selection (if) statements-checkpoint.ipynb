{
 "cells": [
  {
   "cell_type": "code",
   "execution_count": 1,
   "id": "a873df2b",
   "metadata": {},
   "outputs": [
    {
     "name": "stdout",
     "output_type": "stream",
     "text": [
      "Would you like some advice?Y\n",
      "Always know where your towel is.\n"
     ]
    }
   ],
   "source": [
    "#20\n",
    "advice=input(\"Would you like some advice?\")\n",
    "if advice==\"Y\":\n",
    "    print(\"Always know where your towel is.\")"
   ]
  },
  {
   "cell_type": "code",
   "execution_count": 2,
   "id": "35457240",
   "metadata": {},
   "outputs": [
    {
     "name": "stdout",
     "output_type": "stream",
     "text": [
      "What is Black's score?88\n",
      "What is White's score?84\n",
      "After 6.5 is added the score is:\n",
      "Black- 88\n",
      "White- 90.5\n",
      "White is the winner.\n"
     ]
    }
   ],
   "source": [
    "#21\n",
    "black=int(input(\"What is Black's score?\"))\n",
    "white=int(input(\"What is White's score?\"))\n",
    "wscore=white+6.5\n",
    "print(\"After 6.5 is added the score is:\")\n",
    "print(\"Black-\",black)\n",
    "print(\"White-\",wscore)\n",
    "if wscore>black:\n",
    "    print(\"White is the winner.\")\n",
    "else:\n",
    "    print(\"Black is the winner.\")"
   ]
  },
  {
   "cell_type": "code",
   "execution_count": 3,
   "id": "408b3d74",
   "metadata": {},
   "outputs": [
    {
     "name": "stdout",
     "output_type": "stream",
     "text": [
      "Please enter the first amount raised.398\n",
      "Please enter the second amount raised.193\n",
      "Please enter the third amount raised.478\n",
      "A total of $ 1069 was raised.\n",
      "This will be doubled to $ 2138\n"
     ]
    }
   ],
   "source": [
    "#22\n",
    "first=int(input(\"Please enter the first amount raised.\"))\n",
    "second=int(input(\"Please enter the second amount raised.\"))\n",
    "third=int(input(\"Please enter the third amount raised.\"))\n",
    "total=first+second+third\n",
    "print(\"A total of $\",total,\"was raised.\")\n",
    "if total>=1000:\n",
    "    total=total*2\n",
    "    print(\"This will be doubled to $\",total)"
   ]
  },
  {
   "cell_type": "code",
   "execution_count": 4,
   "id": "2e47c4b8",
   "metadata": {},
   "outputs": [
    {
     "name": "stdout",
     "output_type": "stream",
     "text": [
      "Rectangle 1\n",
      "Please enter the length:12\n",
      "Please enter the width:6\n",
      "Rectangle 2\n",
      "Please enter the length:7\n",
      "Please enter the width:9\n",
      "Rectangle 1 has the largest area\n"
     ]
    }
   ],
   "source": [
    "#23\n",
    "print(\"Rectangle 1\")\n",
    "l1=int(input(\"Please enter the length:\"))\n",
    "w1=int(input(\"Please enter the width:\"))\n",
    "a1=l1*w1\n",
    "print(\"Rectangle 2\")\n",
    "l2=int(input(\"Please enter the length:\"))\n",
    "w2=int(input(\"Please enter the width:\"))\n",
    "a2=l2*w2\n",
    "if a1>a2:\n",
    "    print(\"Rectangle 1 has the largest area\")\n",
    "else:\n",
    "    print(\"Rectangle 2 has the largest area\")"
   ]
  },
  {
   "cell_type": "code",
   "execution_count": 5,
   "id": "3506d269",
   "metadata": {},
   "outputs": [
    {
     "name": "stdout",
     "output_type": "stream",
     "text": [
      "Enter sentence 1You can't handle the truth!\n",
      "Enter sentence 2Houston, we have a problem.\n",
      "The percentage of vowels in sentence 1 is: 25.93\n",
      "The percentage of vowels in sentence 2 is: 33.33\n",
      "Sentence 1 has  7 vowels\n",
      "Sentence 2 has 9 vowels\n",
      "Sentence 2 has more vowels\n"
     ]
    }
   ],
   "source": [
    "#24\n",
    "sen1=input(\"Enter sentence 1\")\n",
    "sen2=input(\"Enter sentence 2\")\n",
    "vow1=sen1.count(\"A\")+sen1.count(\"E\")+sen1.count(\"I\")+sen1.count(\"O\")+sen1.count(\"U\")+sen1.count(\"a\")+sen1.count(\"e\")+sen1.count(\"i\")+sen1.count(\"o\")+sen1.count(\"u\")\n",
    "vow2=sen2.count(\"A\")+sen2.count(\"E\")+sen2.count(\"I\")+sen2.count(\"O\")+sen2.count(\"U\")+sen2.count(\"a\")+sen2.count(\"e\")+sen2.count(\"i\")+sen2.count(\"o\")+sen2.count(\"u\")\n",
    "p1=(100/len(sen1))*vow1\n",
    "p2=(100/len(sen2))*vow2\n",
    "print(\"The percentage of vowels in sentence 1 is:\",round(p1,2))\n",
    "print(\"The percentage of vowels in sentence 2 is:\",round(p2,2))\n",
    "print(\"Sentence 1 has \",vow1,\"vowels\")\n",
    "print(\"Sentence 2 has\",vow2,\"vowels\")\n",
    "if vow1>vow2:\n",
    "    print(\"Sentence 1 has more vowels\")\n",
    "else:\n",
    "    print(\"Sentence 2 has more vowels\")"
   ]
  },
  {
   "cell_type": "code",
   "execution_count": 6,
   "id": "d9f6a3f8",
   "metadata": {},
   "outputs": [
    {
     "name": "stdout",
     "output_type": "stream",
     "text": [
      "Would you like some advice?D\n",
      "Sorry, you were asked to enter Y or N\n"
     ]
    }
   ],
   "source": [
    "#25\n",
    "advice=input('Would you like some advice?')\n",
    "if advice==\"Y\":\n",
    "    print(\"Always know where your towel is.\")\n",
    "elif advice==\"N\":\n",
    "    print(\"No advice \")\n",
    "else:\n",
    "    print(\"Sorry, you were asked to enter Y or N\")"
   ]
  },
  {
   "cell_type": "code",
   "execution_count": 8,
   "id": "568a34ca",
   "metadata": {},
   "outputs": [
    {
     "name": "stdout",
     "output_type": "stream",
     "text": [
      "Please enter the test speed(mph).50\n",
      "Please enter the tested stopping distance(m)39.7\n",
      "Your car failed the braking distance test.\n"
     ]
    }
   ],
   "source": [
    "#26\n",
    "speed=int(input(\"Please enter the test speed(mph).\"))\n",
    "dis=float(input(\"Please enter the tested stopping distance(m)\"))\n",
    "if speed==30 and round(dis)<=14:\n",
    "    print(\"Your car passed the braking distance test.\")\n",
    "elif speed==50 and round(dis)<=38:\n",
    "     print(\"Your car passed the braking distance test.\")\n",
    "else:\n",
    "    print(\"Your car failed the braking distance test.\")\n",
    "    "
   ]
  },
  {
   "cell_type": "code",
   "execution_count": 10,
   "id": "f10ee10e",
   "metadata": {},
   "outputs": [
    {
     "name": "stdout",
     "output_type": "stream",
     "text": [
      "Please enter the first amount raised.740\n",
      "Please enter the second amount raised.690\n",
      "Please enter the third amount raised.1024\n",
      "A total of $ 2454 was raised.\n",
      "With the company bonus,this is $ 4454\n"
     ]
    }
   ],
   "source": [
    "#27\n",
    "first=int(input(\"Please enter the first amount raised.\"))\n",
    "second=int(input(\"Please enter the second amount raised.\"))\n",
    "third=int(input(\"Please enter the third amount raised.\"))\n",
    "total=first+second+third\n",
    "print(\"A total of $\",total,\"was raised.\")\n",
    "if total<1000:\n",
    "    total=total+100\n",
    "    print(\"With the company bonus, this is $\",total)\n",
    "elif total>=1000 and total<=2000:\n",
    "    total=total*2\n",
    "    print(\"With the company bonus, this is $\",total)\n",
    "else:\n",
    "    total=2000*2+(total-2000)\n",
    "    print(\"With the company bonus,this is $\",total)"
   ]
  },
  {
   "cell_type": "code",
   "execution_count": null,
   "id": "fe4d6d44",
   "metadata": {},
   "outputs": [],
   "source": []
  }
 ],
 "metadata": {
  "kernelspec": {
   "display_name": "Python 3",
   "language": "python",
   "name": "python3"
  },
  "language_info": {
   "codemirror_mode": {
    "name": "ipython",
    "version": 3
   },
   "file_extension": ".py",
   "mimetype": "text/x-python",
   "name": "python",
   "nbconvert_exporter": "python",
   "pygments_lexer": "ipython3",
   "version": "3.8.8"
  }
 },
 "nbformat": 4,
 "nbformat_minor": 5
}
